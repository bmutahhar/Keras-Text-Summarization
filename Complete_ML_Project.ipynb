{
  "nbformat": 4,
  "nbformat_minor": 0,
  "metadata": {
    "colab": {
      "name": "Complete_ML_Project(1).ipynb",
      "provenance": [],
      "collapsed_sections": [],
      "toc_visible": true,
      "include_colab_link": true
    },
    "kernelspec": {
      "name": "python3",
      "display_name": "Python 3"
    },
    "accelerator": "GPU"
  },
  "cells": [
    {
      "cell_type": "markdown",
      "metadata": {
        "id": "view-in-github",
        "colab_type": "text"
      },
      "source": [
        "<a href=\"https://colab.research.google.com/github/bmutahhar/Keras-Text-Summarization/blob/main/Complete_ML_Project.ipynb\" target=\"_parent\"><img src=\"https://colab.research.google.com/assets/colab-badge.svg\" alt=\"Open In Colab\"/></a>"
      ]
    },
    {
      "cell_type": "markdown",
      "metadata": {
        "id": "y8aipgbZYlVx"
      },
      "source": [
        "# <center>**Machine Learning Course Project**</center>\n",
        "## <center><b>Text Summarizer Using Keras</b></center>\n",
        "---\n",
        "### <center>Submitted by: Mutahhar bin Muzaffar<br>&nbsp; &nbsp; &nbsp; &nbsp; &nbsp; FA17-BCS-058<center>"
      ]
    },
    {
      "cell_type": "markdown",
      "metadata": {
        "id": "oh2v_TNEZvmd"
      },
      "source": [
        "Since I'm making a `text summarizer` using `keras`. My first step towards the ultimate goal was a thorough preprocessing on the dataset.\n",
        "\n",
        "I have used the Kaggle `food reviews` dataset to train my **LSTM** model. The dataset can be downloaded from [here](https://www.kaggle.com/snap/amazon-fine-food-reviews).\n",
        "\n",
        "Below, I have explained the step by step preprocessing of the dataset.\n",
        "\n"
      ]
    },
    {
      "cell_type": "markdown",
      "metadata": {
        "id": "XqZBVJmEZxVY"
      },
      "source": [
        "Below, I am moving the required files from my directory to the default cwd of colab. contractions.json contains all possible contractions of words for example, wouldn't = would not etc. This is required to for data preprocessing.\n",
        "The other file is attention.py which involves Attention Layer as keras does not provides attention layer by default."
      ]
    },
    {
      "cell_type": "code",
      "metadata": {
        "id": "nFAWAsdbvuEC"
      },
      "source": [
        "#Copying JSON file to the default working directory of this notebook.\n",
        "!cp \"/content/drive/My Drive/COMSATS University Islamabad/Semester 6/Machine Learning/Project/Code/contractions.json\" \"./\"\n",
        "#copy the attention.py file to default working directory\n",
        "!cp \"/content/drive/My Drive/Models/ML Project/attention.py\" \"./\""
      ],
      "execution_count": null,
      "outputs": []
    },
    {
      "cell_type": "markdown",
      "metadata": {
        "id": "xo-o4SoQcIgP"
      },
      "source": [
        "# Importing Libraries"
      ]
    },
    {
      "cell_type": "code",
      "metadata": {
        "id": "emvfe1IYvVTK"
      },
      "source": [
        "import numpy as np\n",
        "import pandas as pd \n",
        "import re\n",
        "import json\n",
        "from bs4 import BeautifulSoup\n",
        "from keras.preprocessing.text import Tokenizer \n",
        "from keras.preprocessing.sequence import pad_sequences\n",
        "from tensorflow.keras.layers import Input, LSTM, Embedding, Dense, Concatenate, TimeDistributed, Bidirectional\n",
        "from tensorflow.keras.models import Model\n",
        "from tensorflow.keras.callbacks import EarlyStopping\n",
        "import nltk\n",
        "from nltk.corpus import stopwords\n",
        "import matplotlib.pyplot as plt\n",
        "%matplotlib inline\n",
        "from sklearn.model_selection import train_test_split\n",
        "from attention import AttentionLayer"
      ],
      "execution_count": null,
      "outputs": []
    },
    {
      "cell_type": "markdown",
      "metadata": {
        "id": "cHCepgbccQ9l"
      },
      "source": [
        "Downloading stopwords from nltk library. These stop workds such as the articles, auxilary verbs and prepositions"
      ]
    },
    {
      "cell_type": "code",
      "metadata": {
        "id": "1OHHSW1fvxMD",
        "colab": {
          "base_uri": "https://localhost:8080/",
          "height": 72
        },
        "outputId": "dfdc23d7-5b4c-41c0-80ad-da5a25ebfcd3"
      },
      "source": [
        "#Downloading stopwords from nltk\n",
        "nltk.download('stopwords')"
      ],
      "execution_count": null,
      "outputs": [
        {
          "output_type": "stream",
          "text": [
            "[nltk_data] Downloading package stopwords to /root/nltk_data...\n",
            "[nltk_data]   Package stopwords is already up-to-date!\n"
          ],
          "name": "stdout"
        },
        {
          "output_type": "execute_result",
          "data": {
            "text/plain": [
              "True"
            ]
          },
          "metadata": {
            "tags": []
          },
          "execution_count": 124
        }
      ]
    },
    {
      "cell_type": "markdown",
      "metadata": {
        "id": "mZsneLck842v"
      },
      "source": [
        "# Reading the Dataset"
      ]
    },
    {
      "cell_type": "markdown",
      "metadata": {
        "id": "__iL7KHFdre9"
      },
      "source": [
        "The food reviews dataset consist of 568,454 food reviews of Amazon users left up to October 2012. The dataset span over multiple columns containing information about products, users, meta data about reviews, the reviews themselves, and the summaries of these reviews. "
      ]
    },
    {
      "cell_type": "code",
      "metadata": {
        "id": "Zvkn9xpZvz3r",
        "colab": {
          "base_uri": "https://localhost:8080/",
          "height": 329
        },
        "outputId": "2fb54539-b041-4a6b-ce58-e9435ab115d5"
      },
      "source": [
        "dataset = pd.read_csv('/content/drive/My Drive/Datasets/Reviews.csv')\n",
        "dataset.info()"
      ],
      "execution_count": null,
      "outputs": [
        {
          "output_type": "stream",
          "text": [
            "<class 'pandas.core.frame.DataFrame'>\n",
            "RangeIndex: 568454 entries, 0 to 568453\n",
            "Data columns (total 10 columns):\n",
            " #   Column                  Non-Null Count   Dtype \n",
            "---  ------                  --------------   ----- \n",
            " 0   Id                      568454 non-null  int64 \n",
            " 1   ProductId               568454 non-null  object\n",
            " 2   UserId                  568454 non-null  object\n",
            " 3   ProfileName             568438 non-null  object\n",
            " 4   HelpfulnessNumerator    568454 non-null  int64 \n",
            " 5   HelpfulnessDenominator  568454 non-null  int64 \n",
            " 6   Score                   568454 non-null  int64 \n",
            " 7   Time                    568454 non-null  int64 \n",
            " 8   Summary                 568427 non-null  object\n",
            " 9   Text                    568454 non-null  object\n",
            "dtypes: int64(5), object(5)\n",
            "memory usage: 43.4+ MB\n"
          ],
          "name": "stdout"
        }
      ]
    },
    {
      "cell_type": "markdown",
      "metadata": {
        "id": "0nCXVpnwmCGX"
      },
      "source": [
        "The dataset contains other information as well which is irrelevant to the scope of this project. Therefore, we have to drop other columns before proceeding with preprocessing."
      ]
    },
    {
      "cell_type": "code",
      "metadata": {
        "id": "-CxutsA0wAQr",
        "colab": {
          "base_uri": "https://localhost:8080/",
          "height": 206
        },
        "outputId": "e39d4c08-9090-43e8-b29a-eb75ae3fe404"
      },
      "source": [
        "dataset = dataset.drop(['Id','ProductId','UserId','ProfileName','HelpfulnessNumerator','HelpfulnessDenominator','Score','Time'], axis=1)\n",
        "dataset = dataset.reset_index(drop=True)\n",
        "dataset.head()\n"
      ],
      "execution_count": null,
      "outputs": [
        {
          "output_type": "execute_result",
          "data": {
            "text/html": [
              "<div>\n",
              "<style scoped>\n",
              "    .dataframe tbody tr th:only-of-type {\n",
              "        vertical-align: middle;\n",
              "    }\n",
              "\n",
              "    .dataframe tbody tr th {\n",
              "        vertical-align: top;\n",
              "    }\n",
              "\n",
              "    .dataframe thead th {\n",
              "        text-align: right;\n",
              "    }\n",
              "</style>\n",
              "<table border=\"1\" class=\"dataframe\">\n",
              "  <thead>\n",
              "    <tr style=\"text-align: right;\">\n",
              "      <th></th>\n",
              "      <th>Summary</th>\n",
              "      <th>Text</th>\n",
              "    </tr>\n",
              "  </thead>\n",
              "  <tbody>\n",
              "    <tr>\n",
              "      <th>0</th>\n",
              "      <td>Good Quality Dog Food</td>\n",
              "      <td>I have bought several of the Vitality canned d...</td>\n",
              "    </tr>\n",
              "    <tr>\n",
              "      <th>1</th>\n",
              "      <td>Not as Advertised</td>\n",
              "      <td>Product arrived labeled as Jumbo Salted Peanut...</td>\n",
              "    </tr>\n",
              "    <tr>\n",
              "      <th>2</th>\n",
              "      <td>\"Delight\" says it all</td>\n",
              "      <td>This is a confection that has been around a fe...</td>\n",
              "    </tr>\n",
              "    <tr>\n",
              "      <th>3</th>\n",
              "      <td>Cough Medicine</td>\n",
              "      <td>If you are looking for the secret ingredient i...</td>\n",
              "    </tr>\n",
              "    <tr>\n",
              "      <th>4</th>\n",
              "      <td>Great taffy</td>\n",
              "      <td>Great taffy at a great price.  There was a wid...</td>\n",
              "    </tr>\n",
              "  </tbody>\n",
              "</table>\n",
              "</div>"
            ],
            "text/plain": [
              "                 Summary                                               Text\n",
              "0  Good Quality Dog Food  I have bought several of the Vitality canned d...\n",
              "1      Not as Advertised  Product arrived labeled as Jumbo Salted Peanut...\n",
              "2  \"Delight\" says it all  This is a confection that has been around a fe...\n",
              "3         Cough Medicine  If you are looking for the secret ingredient i...\n",
              "4            Great taffy  Great taffy at a great price.  There was a wid..."
            ]
          },
          "metadata": {
            "tags": []
          },
          "execution_count": 126
        }
      ]
    },
    {
      "cell_type": "code",
      "metadata": {
        "id": "SRkAz4kqwDBH",
        "colab": {
          "base_uri": "https://localhost:8080/",
          "height": 72
        },
        "outputId": "2cab9bfb-cf72-4ede-a3b7-af14dee8b826"
      },
      "source": [
        "dataset.isnull().sum()"
      ],
      "execution_count": null,
      "outputs": [
        {
          "output_type": "execute_result",
          "data": {
            "text/plain": [
              "Summary    27\n",
              "Text        0\n",
              "dtype: int64"
            ]
          },
          "metadata": {
            "tags": []
          },
          "execution_count": 127
        }
      ]
    },
    {
      "cell_type": "code",
      "metadata": {
        "id": "qIvPHPwjwGoN"
      },
      "source": [
        "dataset.drop_duplicates(subset=['Text'],inplace=True)\n",
        "dataset.dropna(axis=0,inplace=True)"
      ],
      "execution_count": null,
      "outputs": []
    },
    {
      "cell_type": "code",
      "metadata": {
        "id": "QaQyZAt2wI6t",
        "colab": {
          "base_uri": "https://localhost:8080/",
          "height": 72
        },
        "outputId": "c3b4b8b6-ff56-4961-f07e-12c6dcdb7018"
      },
      "source": [
        "dataset.isnull().sum()"
      ],
      "execution_count": null,
      "outputs": [
        {
          "output_type": "execute_result",
          "data": {
            "text/plain": [
              "Summary    0\n",
              "Text       0\n",
              "dtype: int64"
            ]
          },
          "metadata": {
            "tags": []
          },
          "execution_count": 129
        }
      ]
    },
    {
      "cell_type": "markdown",
      "metadata": {
        "id": "N9FuXADI7D0-"
      },
      "source": [
        "Representation of some of the reviews and their summaries in the dataset."
      ]
    },
    {
      "cell_type": "code",
      "metadata": {
        "id": "EhjTBKxcxYoS",
        "colab": {
          "base_uri": "https://localhost:8080/",
          "height": 404
        },
        "outputId": "2f0bd8e5-55c3-4078-dd6c-f8692ad6a89a"
      },
      "source": [
        "# Inspecting some of the reviews\n",
        "for i in range(5):\n",
        "    print(\"Review #{}\".format(i+1))\n",
        "    print(\"Summary: {}\".format(dataset.Summary[i]))\n",
        "    print(\"Actual Text: {}\".format(dataset.Text[i]))\n",
        "    print()"
      ],
      "execution_count": null,
      "outputs": [
        {
          "output_type": "stream",
          "text": [
            "Review #1\n",
            "Summary: Good Quality Dog Food\n",
            "Actual Text: I have bought several of the Vitality canned dog food products and have found them all to be of good quality. The product looks more like a stew than a processed meat and it smells better. My Labrador is finicky and she appreciates this product better than  most.\n",
            "\n",
            "Review #2\n",
            "Summary: Not as Advertised\n",
            "Actual Text: Product arrived labeled as Jumbo Salted Peanuts...the peanuts were actually small sized unsalted. Not sure if this was an error or if the vendor intended to represent the product as \"Jumbo\".\n",
            "\n",
            "Review #3\n",
            "Summary: \"Delight\" says it all\n",
            "Actual Text: This is a confection that has been around a few centuries.  It is a light, pillowy citrus gelatin with nuts - in this case Filberts. And it is cut into tiny squares and then liberally coated with powdered sugar.  And it is a tiny mouthful of heaven.  Not too chewy, and very flavorful.  I highly recommend this yummy treat.  If you are familiar with the story of C.S. Lewis' \"The Lion, The Witch, and The Wardrobe\" - this is the treat that seduces Edmund into selling out his Brother and Sisters to the Witch.\n",
            "\n",
            "Review #4\n",
            "Summary: Cough Medicine\n",
            "Actual Text: If you are looking for the secret ingredient in Robitussin I believe I have found it.  I got this in addition to the Root Beer Extract I ordered (which was good) and made some cherry soda.  The flavor is very medicinal.\n",
            "\n",
            "Review #5\n",
            "Summary: Great taffy\n",
            "Actual Text: Great taffy at a great price.  There was a wide assortment of yummy taffy.  Delivery was very quick.  If your a taffy lover, this is a deal.\n",
            "\n"
          ],
          "name": "stdout"
        }
      ]
    },
    {
      "cell_type": "markdown",
      "metadata": {
        "id": "1BB34vPj8-BM"
      },
      "source": [
        "# Preparing the Data"
      ]
    },
    {
      "cell_type": "markdown",
      "metadata": {
        "id": "dGAAfKpi7I6-"
      },
      "source": [
        "The `contractions.json` file is locally compiled and contains the expanded forms of words like isn't, couldn't, won't etc."
      ]
    },
    {
      "cell_type": "code",
      "metadata": {
        "id": "Jfd7720mxark"
      },
      "source": [
        "with open('./contractions.json','r') as f:\n",
        "    contractions = json.load(f)\n"
      ],
      "execution_count": null,
      "outputs": []
    },
    {
      "cell_type": "markdown",
      "metadata": {
        "id": "NbNd4iva7NxJ"
      },
      "source": [
        "I defined this function so that I could apply this to the dataset and remove the stopwords from the `nltk` library and replace the compact words with their expanded forms as well as remove any special characters or unwanted html tags in the dataset."
      ]
    },
    {
      "cell_type": "code",
      "metadata": {
        "id": "6lYCqrFhxd-K"
      },
      "source": [
        "def clean_text(text, remove_stopwords = True):\n",
        "    '''Remove unwanted characters, stopwords, and format the text to create fewer nulls word embeddings'''\n",
        "    \n",
        "    # Convert words to lower case\n",
        "    text = text.lower()\n",
        "    \n",
        "    # Replace contractions with their longer forms \n",
        "    text = text.split()\n",
        "    new_text = []\n",
        "    for word in text:\n",
        "        if word in contractions:\n",
        "            new_text.append(contractions[word])\n",
        "        else:\n",
        "            new_text.append(word)\n",
        "        text = \" \".join(new_text)\n",
        "    \n",
        "    # Format words and remove unwanted characters\n",
        "    text = re.sub(r'https?:\\/\\/.*[\\r\\n]*', '', text, flags=re.MULTILINE)\n",
        "    text = re.sub(r'\\<a href', ' ', text)\n",
        "    text = re.sub(r'&amp;', '', text) \n",
        "    text = re.sub(r'[_\"\\-;%()|+&=*%.,!?:#$@\\[\\]/]', ' ', text)\n",
        "    text = re.sub(r'<br >', ' ', text)\n",
        "    text = re.sub(r'<br />', ' ', text)\n",
        "    text = re.sub(r'\\'', ' ', text)\n",
        "    \n",
        "    # Optionally, remove stop words\n",
        "    if remove_stopwords:\n",
        "        text = text.split()\n",
        "        stops = set(stopwords.words(\"english\"))\n",
        "        text = [w for w in text if not w in stops]\n",
        "        text = \" \".join(text)\n",
        "\n",
        "    return text"
      ],
      "execution_count": null,
      "outputs": []
    },
    {
      "cell_type": "markdown",
      "metadata": {
        "id": "lxph_si87aTD"
      },
      "source": [
        "After defining the function, I applied it to the reviews and summaries and allocated the cleaned reviews and summaries as new columns of the dataset."
      ]
    },
    {
      "cell_type": "code",
      "metadata": {
        "id": "nbkxykx1xinB",
        "colab": {
          "base_uri": "https://localhost:8080/",
          "height": 54
        },
        "outputId": "f2baac60-6327-4caf-e334-bd0fdbb60b8c"
      },
      "source": [
        "clear_summaries=[]\n",
        "for summary in dataset.Summary:\n",
        "    clear_summaries.append(clean_text(summary,remove_stopwords=False))\n",
        "\n",
        "print(\"Summaries Cleaned!\")\n",
        "\n",
        "clear_texts = []\n",
        "for text in dataset.Text:\n",
        "    clear_texts.append(clean_text(text))\n",
        "print(\"Texts Cleaned!\")"
      ],
      "execution_count": null,
      "outputs": [
        {
          "output_type": "stream",
          "text": [
            "Summaries Cleaned!\n",
            "Texts Cleaned!\n"
          ],
          "name": "stdout"
        }
      ]
    },
    {
      "cell_type": "code",
      "metadata": {
        "id": "qb0_o-dPxk95"
      },
      "source": [
        "dataset['Clear_text'] = clear_texts\n",
        "dataset['Clear_summaries'] = clear_summaries"
      ],
      "execution_count": null,
      "outputs": []
    },
    {
      "cell_type": "markdown",
      "metadata": {
        "id": "eWZklGXp8Ap1"
      },
      "source": [
        "In the below cell, I inspected the starting 5 original and cleaned reviews along with their summaries."
      ]
    },
    {
      "cell_type": "code",
      "metadata": {
        "id": "-xE_I8ZNxouQ",
        "colab": {
          "base_uri": "https://localhost:8080/",
          "height": 588
        },
        "outputId": "78365c51-91ce-452b-d8d0-d088845533aa"
      },
      "source": [
        "# Inspecting some of the reviews\n",
        "for i in range(5):\n",
        "    print(\"Review #{}\".format(i+1))\n",
        "    print(\"Actual Summary: {}\".format(dataset.Summary[i]))\n",
        "    print(\"Cleaned Summary: {}\".format(dataset.Clear_summaries[i]))\n",
        "    print(\"Actual Text: {}\".format(dataset.Text[i]))\n",
        "    print(\"Cleaned Summary: {}\".format(dataset.Clear_text[i]))\n",
        "    print()"
      ],
      "execution_count": null,
      "outputs": [
        {
          "output_type": "stream",
          "text": [
            "Review #1\n",
            "Actual Summary: Good Quality Dog Food\n",
            "Cleaned Summary: good quality dog food\n",
            "Actual Text: I have bought several of the Vitality canned dog food products and have found them all to be of good quality. The product looks more like a stew than a processed meat and it smells better. My Labrador is finicky and she appreciates this product better than  most.\n",
            "Cleaned Summary: bought several vitality canned dog food products found good quality product looks like stew processed meat smells better labrador finicky appreciates product better\n",
            "\n",
            "Review #2\n",
            "Actual Summary: Not as Advertised\n",
            "Cleaned Summary: not as advertised\n",
            "Actual Text: Product arrived labeled as Jumbo Salted Peanuts...the peanuts were actually small sized unsalted. Not sure if this was an error or if the vendor intended to represent the product as \"Jumbo\".\n",
            "Cleaned Summary: product arrived labeled jumbo salted peanuts peanuts actually small sized unsalted sure error vendor intended represent product jumbo\n",
            "\n",
            "Review #3\n",
            "Actual Summary: \"Delight\" says it all\n",
            "Cleaned Summary:  delight  says it all\n",
            "Actual Text: This is a confection that has been around a few centuries.  It is a light, pillowy citrus gelatin with nuts - in this case Filberts. And it is cut into tiny squares and then liberally coated with powdered sugar.  And it is a tiny mouthful of heaven.  Not too chewy, and very flavorful.  I highly recommend this yummy treat.  If you are familiar with the story of C.S. Lewis' \"The Lion, The Witch, and The Wardrobe\" - this is the treat that seduces Edmund into selling out his Brother and Sisters to the Witch.\n",
            "Cleaned Summary: confection around centuries light pillowy citrus gelatin nuts case filberts cut tiny squares liberally coated powdered sugar tiny mouthful heaven chewy flavorful highly recommend yummy treat familiar story c lewis lion witch wardrobe treat seduces edmund selling brother sisters witch\n",
            "\n",
            "Review #4\n",
            "Actual Summary: Cough Medicine\n",
            "Cleaned Summary: cough medicine\n",
            "Actual Text: If you are looking for the secret ingredient in Robitussin I believe I have found it.  I got this in addition to the Root Beer Extract I ordered (which was good) and made some cherry soda.  The flavor is very medicinal.\n",
            "Cleaned Summary: looking secret ingredient robitussin believe found got addition root beer extract ordered good made cherry soda flavor medicinal\n",
            "\n",
            "Review #5\n",
            "Actual Summary: Great taffy\n",
            "Cleaned Summary: great taffy\n",
            "Actual Text: Great taffy at a great price.  There was a wide assortment of yummy taffy.  Delivery was very quick.  If your a taffy lover, this is a deal.\n",
            "Cleaned Summary: great taffy great price wide assortment yummy taffy delivery quick taffy lover deal\n",
            "\n"
          ],
          "name": "stdout"
        }
      ]
    },
    {
      "cell_type": "markdown",
      "metadata": {
        "id": "v4XZqRbk8iCu"
      },
      "source": [
        "After removing the unwanted elements from the dataset, there is a high possibility that some of the rows may have become completely empty. So, just to be on the safe side, I replaced the empty values with NaN and then drop those values from the dataset using the `dropna` method of `pandas`."
      ]
    },
    {
      "cell_type": "code",
      "metadata": {
        "id": "rQeHKY9NxqlS"
      },
      "source": [
        "dataset.replace('',np.nan,inplace=True)\n",
        "dataset.dropna(axis=0,inplace=True)"
      ],
      "execution_count": null,
      "outputs": []
    },
    {
      "cell_type": "code",
      "metadata": {
        "id": "yfKLpiByxsxJ",
        "colab": {
          "base_uri": "https://localhost:8080/",
          "height": 219
        },
        "outputId": "d4169218-dde5-41e8-af1d-7aa440e9a0fc"
      },
      "source": [
        "dataset.reset_index(drop=True,inplace=True)\n",
        "dataset.info()"
      ],
      "execution_count": null,
      "outputs": [
        {
          "output_type": "stream",
          "text": [
            "<class 'pandas.core.frame.DataFrame'>\n",
            "RangeIndex: 392450 entries, 0 to 392449\n",
            "Data columns (total 4 columns):\n",
            " #   Column           Non-Null Count   Dtype \n",
            "---  ------           --------------   ----- \n",
            " 0   Summary          392450 non-null  object\n",
            " 1   Text             392450 non-null  object\n",
            " 2   Clear_text       392450 non-null  object\n",
            " 3   Clear_summaries  392450 non-null  object\n",
            "dtypes: object(4)\n",
            "memory usage: 12.0+ MB\n"
          ],
          "name": "stdout"
        }
      ]
    },
    {
      "cell_type": "markdown",
      "metadata": {
        "id": "61e6D4ls9HJP"
      },
      "source": [
        "As you can see, after effective cleaning, the length of the dataset has become quite shortened."
      ]
    },
    {
      "cell_type": "markdown",
      "metadata": {
        "id": "-koT6ekO9Kk_"
      },
      "source": [
        "## Understanding the distribution of the sequences"
      ]
    },
    {
      "cell_type": "markdown",
      "metadata": {
        "id": "5mhg4bfZ9KgH"
      },
      "source": [
        "Here, we will analyze the length of the reviews and the summary to get an overall idea about the distribution of length of the text. This will help us fix the maximum length of the sequence."
      ]
    },
    {
      "cell_type": "code",
      "metadata": {
        "id": "J7TY5kwqxuPR",
        "colab": {
          "base_uri": "https://localhost:8080/",
          "height": 281
        },
        "outputId": "56874940-cb35-461c-d532-b30d9932e9c9"
      },
      "source": [
        "text_word_count = []\n",
        "summary_word_count = []\n",
        "\n",
        "# populate the lists with sentence lengths\n",
        "for i in dataset['Clear_text']:\n",
        "      text_word_count.append(len(i.split()))\n",
        "\n",
        "for i in dataset['Clear_summaries']:\n",
        "      summary_word_count.append(len(i.split()))\n",
        "\n",
        "length_df = pd.DataFrame({'Text':text_word_count, 'Summary':summary_word_count})\n",
        "\n",
        "length_df.hist(bins = 30)\n",
        "plt.show()"
      ],
      "execution_count": null,
      "outputs": [
        {
          "output_type": "display_data",
          "data": {
            "image/png": "[encoded data removed]",
            "text/plain": [
              "<Figure size 432x288 with 2 Axes>"
            ]
          },
          "metadata": {
            "tags": [],
            "needs_background": "light"
          }
        }
      ]
    },
    {
      "cell_type": "markdown",
      "metadata": {
        "id": "hZIrG0wa9Uxi"
      },
      "source": [
        "From the above figures, we can estimate the maximum length of the summary to be 8 since that seems to be the majority summary length.\n",
        "\n",
        "Let us understand the proportion of the length of summaries below 8."
      ]
    },
    {
      "cell_type": "code",
      "metadata": {
        "id": "PGZB2ey9xwtS",
        "colab": {
          "base_uri": "https://localhost:8080/",
          "height": 35
        },
        "outputId": "9d770b51-46f2-44f3-9ea7-97e91503e836"
      },
      "source": [
        "count=0\n",
        "for i in dataset['Clear_summaries']:\n",
        "    if(len(i.split())<=8):\n",
        "        count+=1\n",
        "print(count/len(dataset['Clear_summaries']))"
      ],
      "execution_count": null,
      "outputs": [
        {
          "output_type": "stream",
          "text": [
            "0.9307325773983947\n"
          ],
          "name": "stdout"
        }
      ]
    },
    {
      "cell_type": "markdown",
      "metadata": {
        "id": "8oqmz_7O9Y34"
      },
      "source": [
        "We observe that 93% of the summaries have length below 8. So, we can fix maximum length of summary to 8.\n",
        "\n",
        "Let us fix the maximum length of review to 30"
      ]
    },
    {
      "cell_type": "code",
      "metadata": {
        "id": "HNhJmr3gxy-v"
      },
      "source": [
        "max_text_len=30\n",
        "max_summary_len=8"
      ],
      "execution_count": null,
      "outputs": []
    },
    {
      "cell_type": "markdown",
      "metadata": {
        "id": "2W1N7VcV9b4C"
      },
      "source": [
        "Let us refactor the dataset and select the reviews and summaries whose length falls below or equal to `max_text_len` and `max_summary_len` so that our model can be trained on optimized dataset."
      ]
    },
    {
      "cell_type": "code",
      "metadata": {
        "id": "gCBz3I7ax1wZ",
        "colab": {
          "base_uri": "https://localhost:8080/",
          "height": 206
        },
        "outputId": "5eb98f28-8241-44b2-9ff5-5684621f0a60"
      },
      "source": [
        "cleaned_text =np.array(dataset['Clear_text'])\n",
        "cleaned_summary=np.array(dataset['Clear_summaries'])\n",
        "\n",
        "short_text=[]\n",
        "short_summary=[]\n",
        "\n",
        "for i in range(len(cleaned_text)):\n",
        "    if(len(cleaned_summary[i].split())<=max_summary_len and len(cleaned_text[i].split())<=max_text_len):\n",
        "        short_text.append(cleaned_text[i])\n",
        "        short_summary.append(cleaned_summary[i])\n",
        "        \n",
        "df=pd.DataFrame({'Text':short_text,'Summary':short_summary})\n",
        "df.head()"
      ],
      "execution_count": null,
      "outputs": [
        {
          "output_type": "execute_result",
          "data": {
            "text/html": [
              "<div>\n",
              "<style scoped>\n",
              "    .dataframe tbody tr th:only-of-type {\n",
              "        vertical-align: middle;\n",
              "    }\n",
              "\n",
              "    .dataframe tbody tr th {\n",
              "        vertical-align: top;\n",
              "    }\n",
              "\n",
              "    .dataframe thead th {\n",
              "        text-align: right;\n",
              "    }\n",
              "</style>\n",
              "<table border=\"1\" class=\"dataframe\">\n",
              "  <thead>\n",
              "    <tr style=\"text-align: right;\">\n",
              "      <th></th>\n",
              "      <th>Text</th>\n",
              "      <th>Summary</th>\n",
              "    </tr>\n",
              "  </thead>\n",
              "  <tbody>\n",
              "    <tr>\n",
              "      <th>0</th>\n",
              "      <td>bought several vitality canned dog food produc...</td>\n",
              "      <td>good quality dog food</td>\n",
              "    </tr>\n",
              "    <tr>\n",
              "      <th>1</th>\n",
              "      <td>product arrived labeled jumbo salted peanuts p...</td>\n",
              "      <td>not as advertised</td>\n",
              "    </tr>\n",
              "    <tr>\n",
              "      <th>2</th>\n",
              "      <td>looking secret ingredient robitussin believe f...</td>\n",
              "      <td>cough medicine</td>\n",
              "    </tr>\n",
              "    <tr>\n",
              "      <th>3</th>\n",
              "      <td>great taffy great price wide assortment yummy ...</td>\n",
              "      <td>great taffy</td>\n",
              "    </tr>\n",
              "    <tr>\n",
              "      <th>4</th>\n",
              "      <td>saltwater taffy great flavors soft chewy candy...</td>\n",
              "      <td>great  just as good as the expensive brands</td>\n",
              "    </tr>\n",
              "  </tbody>\n",
              "</table>\n",
              "</div>"
            ],
            "text/plain": [
              "                                                Text                                       Summary\n",
              "0  bought several vitality canned dog food produc...                         good quality dog food\n",
              "1  product arrived labeled jumbo salted peanuts p...                             not as advertised\n",
              "2  looking secret ingredient robitussin believe f...                                cough medicine\n",
              "3  great taffy great price wide assortment yummy ...                                   great taffy\n",
              "4  saltwater taffy great flavors soft chewy candy...  great  just as good as the expensive brands "
            ]
          },
          "metadata": {
            "tags": []
          },
          "execution_count": 141
        }
      ]
    },
    {
      "cell_type": "markdown",
      "metadata": {
        "id": "jA5DBh3-9hce"
      },
      "source": [
        "I have inserted the start and end token to our summaries. It is important as it helps in keeping track of the `tokenizer`."
      ]
    },
    {
      "cell_type": "code",
      "metadata": {
        "id": "84Jtjzn0x3zl"
      },
      "source": [
        "def sufficx_prefix(x):\n",
        "    return \"STARTOFTOKEN \" + x + \" ENDOFTOKEN\""
      ],
      "execution_count": null,
      "outputs": []
    },
    {
      "cell_type": "code",
      "metadata": {
        "id": "At4ehdQvx6MC",
        "colab": {
          "base_uri": "https://localhost:8080/",
          "height": 54
        },
        "outputId": "0b3e1ebf-f259-4026-dd14-8c88dcc3eba4"
      },
      "source": [
        "df['Summary'] = df.Summary.apply(sufficx_prefix)\n",
        "print(\"Total texts after cleaning: {}\".format(df.Text.count()))\n",
        "print(\"Total summaries after cleaning: {}\".format(df.Summary.count()))"
      ],
      "execution_count": null,
      "outputs": [
        {
          "output_type": "stream",
          "text": [
            "Total texts after cleaning: 202538\n",
            "Total summaries after cleaning: 202538\n"
          ],
          "name": "stdout"
        }
      ]
    },
    {
      "cell_type": "markdown",
      "metadata": {
        "id": "YjWrSDQ39neu"
      },
      "source": [
        "## Splitting the Dataset\n",
        "---\n",
        "Since all the cleaning part is done. I have divided the dataset into train and test set using the `train_test_split` method of sklearn library. We will be using 20% of the dataset from testing purposes while the rest of the dataset will be used to train the `Encoder` and `Decoder` model."
      ]
    },
    {
      "cell_type": "code",
      "metadata": {
        "id": "YL8pS6zCx8HK"
      },
      "source": [
        "X_train, X_test, Y_train, Y_test = train_test_split(np.array(df.Text),np.array(df.Summary),test_size=0.2,random_state=0,shuffle=True)"
      ],
      "execution_count": null,
      "outputs": []
    },
    {
      "cell_type": "code",
      "metadata": {
        "id": "pdvwy0_gx-zX",
        "colab": {
          "base_uri": "https://localhost:8080/",
          "height": 90
        },
        "outputId": "9aefcdab-dd9d-4df6-90c9-56bae3ac3446"
      },
      "source": [
        "print(\"Train set X size: \",X_train.shape)\n",
        "print(\"Train set Y size: \",Y_train.shape)\n",
        "print(\"Test set X size: \",X_test.shape)\n",
        "print(\"Test set Y size: \",Y_test.shape)"
      ],
      "execution_count": null,
      "outputs": [
        {
          "output_type": "stream",
          "text": [
            "Train set X size:  (162030,)\n",
            "Train set Y size:  (162030,)\n",
            "Test set X size:  (40508,)\n",
            "Test set Y size:  (40508,)\n"
          ],
          "name": "stdout"
        }
      ]
    },
    {
      "cell_type": "code",
      "metadata": {
        "id": "aozkHXm0c4i2",
        "colab": {
          "base_uri": "https://localhost:8080/",
          "height": 127
        },
        "outputId": "1dd9697d-10b1-4ba9-8d5f-c7bbbccf09bd"
      },
      "source": [
        "Y_train"
      ],
      "execution_count": null,
      "outputs": [
        {
          "output_type": "execute_result",
          "data": {
            "text/plain": [
              "array(['STARTOFTOKEN great cereal ENDOFTOKEN',\n",
              "       'STARTOFTOKEN chocolate dessert ENDOFTOKEN',\n",
              "       'STARTOFTOKEN my maltise loves it ENDOFTOKEN', ...,\n",
              "       'STARTOFTOKEN addicting ENDOFTOKEN',\n",
              "       'STARTOFTOKEN incredible ENDOFTOKEN',\n",
              "       'STARTOFTOKEN lovely nougat ENDOFTOKEN'], dtype=object)"
            ]
          },
          "metadata": {
            "tags": []
          },
          "execution_count": 146
        }
      ]
    },
    {
      "cell_type": "markdown",
      "metadata": {
        "id": "dUTt7tCR9sPF"
      },
      "source": [
        "# Preparing the Tokenizer\n",
        "Since an ML or DL model can work on only numeric values, it's necessory to convert text/strings into numerical values by the help of tokenizer. A tokenizer builds the vocabulary and converts a word sequence to an integer sequence.So let's go ahead and build tokenizers for texts and summaries."
      ]
    },
    {
      "cell_type": "markdown",
      "metadata": {
        "id": "hPzMkyxs94mH"
      },
      "source": [
        "# Tokenizing ***Texts***"
      ]
    },
    {
      "cell_type": "markdown",
      "metadata": {
        "id": "kTaxu8BB98IX"
      },
      "source": [
        "The reviews will acts as the X part of the dataset while their summaries will act as the Y portion. So first of all I have tokenized the texts column of our dataset which contains the actual reviews."
      ]
    },
    {
      "cell_type": "code",
      "metadata": {
        "id": "u956Tb2PyBW7"
      },
      "source": [
        "#prepare a tokenizer for reviews on training data\n",
        "X_tokenizer = Tokenizer() \n",
        "X_tokenizer.fit_on_texts(list(X_train))"
      ],
      "execution_count": null,
      "outputs": []
    },
    {
      "cell_type": "markdown",
      "metadata": {
        "id": "elwkEPwG-DZ7"
      },
      "source": [
        "## Rarewords and its Coverage\n",
        "The dataset still contains rare words (words having lesser occurance than usual). These rare words may not prove to be useful in training our model. \n",
        "Let us look at the proportion rare words and its total coverage in the entire text\n",
        "\n",
        "Here, I am defining the threshold to be 4 which means word whose count is below 4 is considered as a rare word\n",
        "\n"
      ]
    },
    {
      "cell_type": "code",
      "metadata": {
        "id": "TanKn6JPyEql",
        "colab": {
          "base_uri": "https://localhost:8080/",
          "height": 54
        },
        "outputId": "a4173e30-bbdb-42c2-a1d0-985132114eb9"
      },
      "source": [
        "threshold=4\n",
        "\n",
        "count=0\n",
        "total_count=0\n",
        "frequency=0\n",
        "total_frequency=0\n",
        "\n",
        "for key,value in X_tokenizer.word_counts.items():\n",
        "    total_count+=1\n",
        "    total_frequency+=value\n",
        "    if(value<threshold):\n",
        "        count+=1\n",
        "        frequency+=value\n",
        "    \n",
        "print(\"There are {}% of rare words in vocabulary.\".format((count/total_count)*100))\n",
        "print(\"Total Coverage of rare words: {}%\".format((frequency/total_frequency)*100))"
      ],
      "execution_count": null,
      "outputs": [
        {
          "output_type": "stream",
          "text": [
            "There are 65.14922995220394% of rare words in vocabulary.\n",
            "Total Coverage of rare words: 1.4315355723174268%\n"
          ],
          "name": "stdout"
        }
      ]
    },
    {
      "cell_type": "markdown",
      "metadata": {
        "id": "wcQ_yk3x-IMt"
      },
      "source": [
        "As you can see we have almost 65% rare words in our vocabulary which covers a total of 1.4% area of our dataset. These rare words can become outliers which will produce inaccurate results in the future so they must be removed. "
      ]
    },
    {
      "cell_type": "markdown",
      "metadata": {
        "id": "Q8UUHaT6JUiZ"
      },
      "source": [
        "Remember:\n",
        "\n",
        "* `count` gives the no. of rare words whose count falls below threshold\n",
        "* `total_count` gives the size of vocabulary (which means every unique words in the text)\n",
        "* `total_count - count` gives the top most common words\n",
        "\n",
        "Therefore, setting the total length of our tokenizer to `total_count - count` which is the normal and ususal words.\n",
        "\n"
      ]
    },
    {
      "cell_type": "code",
      "metadata": {
        "id": "X5aTrkzkyHwK",
        "colab": {
          "base_uri": "https://localhost:8080/",
          "height": 35
        },
        "outputId": "3d40dce7-715e-4b89-debf-c29651a8ff07"
      },
      "source": [
        "#prepare a tokenizer for reviews on training data\n",
        "X_tokenizer = Tokenizer(num_words=total_count-count) \n",
        "X_tokenizer.fit_on_texts(list(X_train))\n",
        "\n",
        "#convert text sequences into integer sequences\n",
        "X_train_seq = X_tokenizer.texts_to_sequences(X_train) \n",
        "X_test_seq = X_tokenizer.texts_to_sequences(X_test)\n",
        "\n",
        "#padding zero upto maximum length\n",
        "X_train = pad_sequences(X_train_seq,  maxlen=max_text_len, padding='post')\n",
        "X_test = pad_sequences(X_test_seq, maxlen=max_text_len, padding='post')\n",
        "\n",
        "#size of vocabulary ( +1 for padding token)\n",
        "X_vocab = X_tokenizer.num_words + 1\n",
        "X_vocab"
      ],
      "execution_count": null,
      "outputs": [
        {
          "output_type": "execute_result",
          "data": {
            "text/plain": [
              "16407"
            ]
          },
          "metadata": {
            "tags": []
          },
          "execution_count": 149
        }
      ]
    },
    {
      "cell_type": "markdown",
      "metadata": {
        "id": "1CTi9wcnJZls"
      },
      "source": [
        "# Tokenizing ***Summaries***"
      ]
    },
    {
      "cell_type": "markdown",
      "metadata": {
        "id": "NmJmcIw3Jc3Y"
      },
      "source": [
        "Tokenizing the Y portion of the dataset and removing the rare words from summaries same as we did above. The only difference is that, for rare words in summaries I have set the threshold to 6, meaning any words occuring less than 6 times is a rare word."
      ]
    },
    {
      "cell_type": "code",
      "metadata": {
        "id": "9wo5buy7yK0y"
      },
      "source": [
        "#prepare a tokenizer for reviews on training data\n",
        "Y_tokenizer = Tokenizer()   \n",
        "Y_tokenizer.fit_on_texts(list(Y_train))"
      ],
      "execution_count": null,
      "outputs": []
    },
    {
      "cell_type": "code",
      "metadata": {
        "id": "WkdyIJ4FyNHG",
        "colab": {
          "base_uri": "https://localhost:8080/",
          "height": 54
        },
        "outputId": "dd4981cf-8774-42ab-8d3a-fc070ff65ba6"
      },
      "source": [
        "threshold=6\n",
        "\n",
        "count=0\n",
        "total_count=0\n",
        "frequency=0\n",
        "total_frequency=0\n",
        "\n",
        "for key,value in Y_tokenizer.word_counts.items():\n",
        "    total_count+=1\n",
        "    total_frequency+=value\n",
        "    if(value<threshold):\n",
        "        count+=1\n",
        "        frequency+=value\n",
        "    \n",
        "print(\"There are {}% of rare words in vocabulary.\".format((count/total_count)*100))\n",
        "print(\"Total Coverage of rare words: {}%\".format((frequency/total_frequency)*100))"
      ],
      "execution_count": null,
      "outputs": [
        {
          "output_type": "stream",
          "text": [
            "There are 76.29457364341086% of rare words in vocabulary.\n",
            "Total Coverage of rare words: 2.845870496064023%\n"
          ],
          "name": "stdout"
        }
      ]
    },
    {
      "cell_type": "code",
      "metadata": {
        "id": "v_dZQqyDyRmd",
        "colab": {
          "base_uri": "https://localhost:8080/",
          "height": 35
        },
        "outputId": "88c643da-87e4-4fc4-dad8-ffa875ecd7ab"
      },
      "source": [
        "#prepare a tokenizer for reviews on training data\n",
        "Y_tokenizer = Tokenizer(num_words=total_count-count) \n",
        "Y_tokenizer.fit_on_texts(list(Y_train))\n",
        "\n",
        "#convert text sequences into integer sequences\n",
        "Y_train_seq = Y_tokenizer.texts_to_sequences(Y_train) \n",
        "Y_test_seq = Y_tokenizer.texts_to_sequences(Y_test)\n",
        "\n",
        "#padding zero upto maximum length\n",
        "Y_train = pad_sequences(Y_train_seq,  maxlen=max_summary_len, padding='post')\n",
        "Y_test = pad_sequences(Y_test_seq, maxlen=max_summary_len, padding='post')\n",
        "\n",
        "#size of vocabulary ( +1 for padding token)\n",
        "Y_vocab = Y_tokenizer.num_words + 1\n",
        "Y_vocab"
      ],
      "execution_count": null,
      "outputs": [
        {
          "output_type": "execute_result",
          "data": {
            "text/plain": [
              "4588"
            ]
          },
          "metadata": {
            "tags": []
          },
          "execution_count": 152
        }
      ]
    },
    {
      "cell_type": "markdown",
      "metadata": {
        "id": "VAY5TPZTJknd"
      },
      "source": [
        "Let us check whether word count of start token is equal to length of the training data"
      ]
    },
    {
      "cell_type": "code",
      "metadata": {
        "id": "aIqa_60ayTzW",
        "colab": {
          "base_uri": "https://localhost:8080/",
          "height": 35
        },
        "outputId": "596df327-c859-464e-c3ee-16d692f5c10f"
      },
      "source": [
        "Y_tokenizer.word_counts['startoftoken'],len(Y_train)"
      ],
      "execution_count": null,
      "outputs": [
        {
          "output_type": "execute_result",
          "data": {
            "text/plain": [
              "(162030, 162030)"
            ]
          },
          "metadata": {
            "tags": []
          },
          "execution_count": 153
        }
      ]
    },
    {
      "cell_type": "markdown",
      "metadata": {
        "id": "9a6gpg6eaLKR"
      },
      "source": [
        "Here, I am deleting the rows that contain only **START** and **END** tokens"
      ]
    },
    {
      "cell_type": "code",
      "metadata": {
        "id": "lChRy92tyWmU"
      },
      "source": [
        "ind=[]\n",
        "for i in range(len(Y_train)):\n",
        "    cnt=0\n",
        "    for j in Y_train[i]:\n",
        "        if j!=0:\n",
        "            cnt=cnt+1\n",
        "    if(cnt==2):\n",
        "        ind.append(i)\n",
        "\n",
        "Y_train=np.delete(Y_train,ind, axis=0)\n",
        "X_train=np.delete(X_train,ind, axis=0)"
      ],
      "execution_count": null,
      "outputs": []
    },
    {
      "cell_type": "code",
      "metadata": {
        "id": "ZRYDY5pt5t1N"
      },
      "source": [
        "ind=[]\n",
        "for i in range(len(Y_test)):\n",
        "    cnt=0\n",
        "    for j in Y_test[i]:\n",
        "        if j!=0:\n",
        "            cnt=cnt+1\n",
        "    if(cnt==2):\n",
        "        ind.append(i)\n",
        "\n",
        "Y_test=np.delete(Y_test,ind, axis=0)\n",
        "X_test=np.delete(X_test,ind, axis=0)"
      ],
      "execution_count": null,
      "outputs": []
    },
    {
      "cell_type": "markdown",
      "metadata": {
        "id": "PPGl7hWK9tu5"
      },
      "source": [
        "# Model Building"
      ]
    },
    {
      "cell_type": "markdown",
      "metadata": {
        "id": "PbbogAYdmKXF"
      },
      "source": [
        "To explain how LSTMs work, I am going to use the following image as a helping aid.\n",
        "<figure>\n",
        "<center>\n",
        "  <img src=\"https://miro.medium.com/max/1382/1*DFPyZ-XMPFNukCP3mF8gJg.png\" alt=\"LSTM Encoder Decoder\"/>\n",
        "  <figcaption>Fig 1: LSTM Encoder Decoder Model</figcaption>\n",
        "  <center/>\n",
        "</figure>\n",
        "As you can see, each encoder and decoder models consists of several LSTM layers stacked over each other. We input our embedded words to the encoder and provides encoder's output to the decoder as it's input. Since each Lstm layers depends on the previous ones and the decoder depends on encoder's output, it is called Sequence to Sequence model.\n",
        "\n",
        "* **Return Sequences = True**: We have set the return sequences to true so that the LSTM layers produces hidden state and cell stats for each time step.\n",
        "* **Return State = True**: Setting the return state true makes the LSTM layers to output hidden and cell stat for last layer only.\n",
        "* **Initial State**: This is used to initialize the internal states of the LSTM for the first timestep\n",
        "* **Stacked LSTM**: Stacked LSTM has multiple layers of LSTM stacked on top of each other. This leads to a better representation of the sequence."
      ]
    },
    {
      "cell_type": "markdown",
      "metadata": {
        "id": "CvTroiaBhIsE"
      },
      "source": [
        "I have implemented 3 layers for encoder model and a single layer for our decoder model. I'll explain the architecture in much more detail in the video."
      ]
    },
    {
      "cell_type": "code",
      "metadata": {
        "id": "uXJmkTAeWakt",
        "colab": {
          "base_uri": "https://localhost:8080/",
          "height": 753
        },
        "outputId": "bfb2e1ab-fce7-43cd-bd05-993e2462f66f"
      },
      "source": [
        "from keras import backend as K \n",
        "K.clear_session()\n",
        "\n",
        "latent_dim = 300\n",
        "embedding_dim=100\n",
        "encoder_inputs = Input(shape=(max_text_len,))\n",
        "\n",
        "#embedding layer\n",
        "enc_emb =  Embedding(X_vocab, embedding_dim,trainable=True)(encoder_inputs)\n",
        "\n",
        "#encoder lstm 1\n",
        "encoder_lstm1 = LSTM(latent_dim,return_sequences=True,return_state=True,dropout=0.4,recurrent_dropout=0.4)\n",
        "encoder_output1, state_h1, state_c1 = encoder_lstm1(enc_emb)\n",
        "\n",
        "#encoder lstm 2\n",
        "encoder_lstm2 = LSTM(latent_dim,return_sequences=True,return_state=True,dropout=0.4,recurrent_dropout=0.4)\n",
        "encoder_output2, state_h2, state_c2 = encoder_lstm2(encoder_output1)\n",
        "\n",
        "#encoder lstm 3\n",
        "encoder_lstm3=LSTM(latent_dim, return_state=True, return_sequences=True,dropout=0.4,recurrent_dropout=0.4)\n",
        "encoder_outputs, state_h, state_c= encoder_lstm3(encoder_output2)\n",
        "\n",
        "# Set up the decoder, using `encoder_states` as initial state.\n",
        "decoder_inputs = Input(shape=(None,))\n",
        "\n",
        "#decoder embedding layer\n",
        "dec_emb_layer = Embedding(Y_vocab, embedding_dim,trainable=True)\n",
        "dec_emb = dec_emb_layer(decoder_inputs)\n",
        "\n",
        "\n",
        "decoder_lstm = LSTM(latent_dim, return_sequences=True, return_state=True,dropout=0.4,recurrent_dropout=0.2)\n",
        "decoder_outputs,decoder_fwd_state, decoder_back_state = decoder_lstm(dec_emb,initial_state=[state_h, state_c])\n",
        "\n",
        "# Attention layer\n",
        "attn_layer = AttentionLayer(name='attention_layer')\n",
        "attn_out, attn_states = attn_layer([encoder_outputs, decoder_outputs])\n",
        "\n",
        "# Concat attention input and decoder LSTM output\n",
        "decoder_concat_input = Concatenate(axis=-1, name='concat_layer')([decoder_outputs, attn_out])\n",
        "\n",
        "\n",
        "#dense layer\n",
        "decoder_dense =  TimeDistributed(Dense(Y_vocab, activation='softmax'))\n",
        "decoder_outputs = decoder_dense(decoder_concat_input)\n",
        "print(decoder_outputs.shape)\n",
        "# Define the model \n",
        "model = Model([encoder_inputs, decoder_inputs], decoder_outputs)\n",
        "\n",
        "model.summary()\n",
        "\n",
        "\n"
      ],
      "execution_count": null,
      "outputs": [
        {
          "output_type": "stream",
          "text": [
            "WARNING:tensorflow:Layer lstm will not use cuDNN kernel since it doesn't meet the cuDNN kernel criteria. It will use generic GPU kernel as fallback when running on GPU\n",
            "WARNING:tensorflow:Layer lstm_1 will not use cuDNN kernel since it doesn't meet the cuDNN kernel criteria. It will use generic GPU kernel as fallback when running on GPU\n",
            "WARNING:tensorflow:Layer lstm_2 will not use cuDNN kernel since it doesn't meet the cuDNN kernel criteria. It will use generic GPU kernel as fallback when running on GPU\n",
            "WARNING:tensorflow:Layer lstm_3 will not use cuDNN kernel since it doesn't meet the cuDNN kernel criteria. It will use generic GPU kernel as fallback when running on GPU\n",
            "(None, None, 4588)\n",
            "Model: \"functional_1\"\n",
            "__________________________________________________________________________________________________\n",
            "Layer (type)                    Output Shape         Param #     Connected to                     \n",
            "==================================================================================================\n",
            "input_1 (InputLayer)            [(None, 30)]         0                                            \n",
            "__________________________________________________________________________________________________\n",
            "embedding (Embedding)           (None, 30, 100)      1640700     input_1[0][0]                    \n",
            "__________________________________________________________________________________________________\n",
            "lstm (LSTM)                     [(None, 30, 300), (N 481200      embedding[0][0]                  \n",
            "__________________________________________________________________________________________________\n",
            "input_2 (InputLayer)            [(None, None)]       0                                            \n",
            "__________________________________________________________________________________________________\n",
            "lstm_1 (LSTM)                   [(None, 30, 300), (N 721200      lstm[0][0]                       \n",
            "__________________________________________________________________________________________________\n",
            "embedding_1 (Embedding)         (None, None, 100)    458800      input_2[0][0]                    \n",
            "__________________________________________________________________________________________________\n",
            "lstm_2 (LSTM)                   [(None, 30, 300), (N 721200      lstm_1[0][0]                     \n",
            "__________________________________________________________________________________________________\n",
            "lstm_3 (LSTM)                   [(None, None, 300),  481200      embedding_1[0][0]                \n",
            "                                                                 lstm_2[0][1]                     \n",
            "                                                                 lstm_2[0][2]                     \n",
            "__________________________________________________________________________________________________\n",
            "attention_layer (AttentionLayer ((None, None, 300),  180300      lstm_2[0][0]                     \n",
            "                                                                 lstm_3[0][0]                     \n",
            "__________________________________________________________________________________________________\n",
            "concat_layer (Concatenate)      (None, None, 600)    0           lstm_3[0][0]                     \n",
            "                                                                 attention_layer[0][0]            \n",
            "__________________________________________________________________________________________________\n",
            "time_distributed (TimeDistribut (None, None, 4588)   2757388     concat_layer[0][0]               \n",
            "==================================================================================================\n",
            "Total params: 7,441,988\n",
            "Trainable params: 7,441,988\n",
            "Non-trainable params: 0\n",
            "__________________________________________________________________________________________________\n"
          ],
          "name": "stdout"
        }
      ]
    },
    {
      "cell_type": "code",
      "metadata": {
        "id": "zMqj6jPbZUJB"
      },
      "source": [
        "model.compile(optimizer='adam', loss='sparse_categorical_crossentropy')"
      ],
      "execution_count": null,
      "outputs": []
    },
    {
      "cell_type": "code",
      "metadata": {
        "id": "N8UK801sfMVo"
      },
      "source": [
        "es = EarlyStopping(monitor='val_loss', mode='min', verbose=1,patience=3)"
      ],
      "execution_count": null,
      "outputs": []
    },
    {
      "cell_type": "code",
      "metadata": {
        "id": "6ocudC-ofQVm",
        "colab": {
          "base_uri": "https://localhost:8080/",
          "height": 660
        },
        "outputId": "7be98aed-678c-47be-98ab-b4e4283ee9a0"
      },
      "source": [
        "history=model.fit([X_train,Y_train[:,:-1]], Y_train.reshape(Y_train.shape[0],Y_train.shape[1], 1)[:,1:] ,epochs=30,callbacks=[es],batch_size=512, validation_data=([X_test,Y_test[:,:-1]], Y_test.reshape(Y_test.shape[0],Y_test.shape[1], 1)[:,1:]))"
      ],
      "execution_count": null,
      "outputs": [
        {
          "output_type": "stream",
          "text": [
            "Epoch 1/30\n",
            "312/312 [==============================] - 158s 507ms/step - loss: 3.1484 - val_loss: 2.8078\n",
            "Epoch 2/30\n",
            "312/312 [==============================] - 156s 500ms/step - loss: 2.7348 - val_loss: 2.6410\n",
            "Epoch 3/30\n",
            "312/312 [==============================] - 154s 493ms/step - loss: 2.5752 - val_loss: 2.4991\n",
            "Epoch 4/30\n",
            "312/312 [==============================] - 155s 495ms/step - loss: 2.4193 - val_loss: 2.3467\n",
            "Epoch 5/30\n",
            "312/312 [==============================] - 155s 496ms/step - loss: 2.2832 - val_loss: 2.2461\n",
            "Epoch 6/30\n",
            "312/312 [==============================] - 154s 494ms/step - loss: 2.1746 - val_loss: 2.1635\n",
            "Epoch 7/30\n",
            "312/312 [==============================] - 155s 496ms/step - loss: 2.0825 - val_loss: 2.1059\n",
            "Epoch 8/30\n",
            "312/312 [==============================] - 152s 488ms/step - loss: 2.0056 - val_loss: 2.0652\n",
            "Epoch 9/30\n",
            "312/312 [==============================] - 152s 488ms/step - loss: 1.9416 - val_loss: 2.0395\n",
            "Epoch 10/30\n",
            "312/312 [==============================] - 152s 486ms/step - loss: 1.8856 - val_loss: 2.0220\n",
            "Epoch 11/30\n",
            "312/312 [==============================] - 152s 488ms/step - loss: 1.8355 - val_loss: 2.0093\n",
            "Epoch 12/30\n",
            "312/312 [==============================] - 152s 486ms/step - loss: 1.7908 - val_loss: 2.0057\n",
            "Epoch 13/30\n",
            "312/312 [==============================] - 152s 488ms/step - loss: 1.7490 - val_loss: 2.0001\n",
            "Epoch 14/30\n",
            "312/312 [==============================] - 152s 486ms/step - loss: 1.7103 - val_loss: 1.9988\n",
            "Epoch 15/30\n",
            "312/312 [==============================] - 152s 488ms/step - loss: 1.6744 - val_loss: 2.0010\n",
            "Epoch 16/30\n",
            "312/312 [==============================] - 152s 487ms/step - loss: 1.6408 - val_loss: 2.0049\n",
            "Epoch 17/30\n",
            "312/312 [==============================] - 151s 485ms/step - loss: 1.6089 - val_loss: 2.0100\n",
            "Epoch 00017: early stopping\n"
          ],
          "name": "stdout"
        }
      ]
    },
    {
      "cell_type": "markdown",
      "metadata": {
        "id": "0KKDg2fUhyjR"
      },
      "source": [
        "Below, you can see that as soon as the valdiation loss increase, `Early Stopping` mechanism kicked in and stopped the training here."
      ]
    },
    {
      "cell_type": "code",
      "metadata": {
        "id": "DVHNvaCCWJtJ",
        "colab": {
          "base_uri": "https://localhost:8080/",
          "height": 266
        },
        "outputId": "07172c72-abdb-482e-a308-7c7c7d98c085"
      },
      "source": [
        "from matplotlib import pyplot\n",
        "pyplot.plot(history.history['loss'], label='train')\n",
        "pyplot.plot(history.history['val_loss'], label='test')\n",
        "pyplot.legend()\n",
        "pyplot.show()"
      ],
      "execution_count": null,
      "outputs": [
        {
          "output_type": "display_data",
          "data": {
            "image/png": "[encoded data removed]",
            "text/plain": [
              "<Figure size 432x288 with 1 Axes>"
            ]
          },
          "metadata": {
            "tags": [],
            "needs_background": "light"
          }
        }
      ]
    },
    {
      "cell_type": "markdown",
      "metadata": {
        "id": "a4nTcvSbi6IZ"
      },
      "source": [
        "Here, I have used the index_word dictionaries of our X and Y tokenizer so that we can eventually convert the predicted output sequence back into textual representation."
      ]
    },
    {
      "cell_type": "code",
      "metadata": {
        "id": "Hpt9xgnS0xSW"
      },
      "source": [
        "reverse_target_word_index=Y_tokenizer.index_word\n",
        "reverse_source_word_index=X_tokenizer.index_word\n",
        "target_word_index=Y_tokenizer.word_index"
      ],
      "execution_count": null,
      "outputs": []
    },
    {
      "cell_type": "markdown",
      "metadata": {
        "id": "ppfMEvcLLShu"
      },
      "source": [
        "# Inference"
      ]
    },
    {
      "cell_type": "markdown",
      "metadata": {
        "id": "ni9ukGeDUv-V"
      },
      "source": [
        "After training, the model is tested on new source sequences for which the target sequence is unknown. So, we need to set up the inference architecture to decode a test sequence. Here are the steps to decode the test sequence:\n",
        "\n",
        "1. Encode the entire input sequence and initialize the decoder with internal states of the encoder\n",
        "2. Pass <start> token as an input to the decoder\n",
        "3. Run the decoder for one timestep with the internal states\n",
        "4. The output will be the probability for the next word. The word with the maximum probability will be selected\n",
        "5. Pass the sampled word as an input to the decoder in the next timestep and update the internal states with the current time step\n",
        "6. Repeat steps 3 – 5 until we generate <end> token or hit the maximum length of the target sequence"
      ]
    },
    {
      "cell_type": "code",
      "metadata": {
        "id": "GjGjYRVA2AR2"
      },
      "source": [
        "# Encode the input sequence to get the feature vector\n",
        "encoder_model = Model(inputs=encoder_inputs,outputs=[encoder_outputs, state_h, state_c])\n",
        "\n",
        "# Decoder setup\n",
        "# Below tensors will hold the states of the previous time step\n",
        "decoder_state_input_h = Input(shape=(latent_dim,))\n",
        "decoder_state_input_c = Input(shape=(latent_dim,))\n",
        "decoder_hidden_state_input = Input(shape=(max_text_len,latent_dim))\n",
        "\n",
        "# Get the embeddings of the decoder sequence\n",
        "dec_emb2= dec_emb_layer(decoder_inputs) \n",
        "# To predict the next word in the sequence, set the initial states to the states from the previous time step\n",
        "decoder_outputs2, state_h2, state_c2 = decoder_lstm(dec_emb2, initial_state=[decoder_state_input_h, decoder_state_input_c])\n",
        "\n",
        "#attention inference\n",
        "attn_out_inf, attn_states_inf = attn_layer([decoder_hidden_state_input, decoder_outputs2])\n",
        "decoder_inf_concat = Concatenate(axis=-1, name='concat')([decoder_outputs2, attn_out_inf])\n",
        "\n",
        "# A dense softmax layer to generate prob dist. over the target vocabulary\n",
        "decoder_outputs2 = decoder_dense(decoder_inf_concat) \n",
        "\n",
        "# Final decoder model\n",
        "decoder_model = Model(\n",
        "    [decoder_inputs] + [decoder_hidden_state_input,decoder_state_input_h, decoder_state_input_c],\n",
        "    [decoder_outputs2] + [state_h2, state_c2])"
      ],
      "execution_count": null,
      "outputs": []
    },
    {
      "cell_type": "code",
      "metadata": {
        "id": "2Hwm1dLOCqaX",
        "colab": {
          "base_uri": "https://localhost:8080/",
          "height": 568
        },
        "outputId": "dfa9902f-3350-422d-e177-b494f47bd6cd"
      },
      "source": [
        "decoder_model.summary()"
      ],
      "execution_count": null,
      "outputs": [
        {
          "output_type": "stream",
          "text": [
            "Model: \"functional_9\"\n",
            "__________________________________________________________________________________________________\n",
            "Layer (type)                    Output Shape         Param #     Connected to                     \n",
            "==================================================================================================\n",
            "input_2 (InputLayer)            [(None, None)]       0                                            \n",
            "__________________________________________________________________________________________________\n",
            "embedding_1 (Embedding)         (None, None, 100)    458800      input_2[0][0]                    \n",
            "__________________________________________________________________________________________________\n",
            "input_6 (InputLayer)            [(None, 300)]        0                                            \n",
            "__________________________________________________________________________________________________\n",
            "input_7 (InputLayer)            [(None, 300)]        0                                            \n",
            "__________________________________________________________________________________________________\n",
            "lstm_3 (LSTM)                   [(None, None, 300),  481200      embedding_1[2][0]                \n",
            "                                                                 input_6[0][0]                    \n",
            "                                                                 input_7[0][0]                    \n",
            "__________________________________________________________________________________________________\n",
            "input_8 (InputLayer)            [(None, 30, 300)]    0                                            \n",
            "__________________________________________________________________________________________________\n",
            "attention_layer (AttentionLayer ((None, None, 300),  180300      input_8[0][0]                    \n",
            "                                                                 lstm_3[2][0]                     \n",
            "__________________________________________________________________________________________________\n",
            "concat (Concatenate)            (None, None, 600)    0           lstm_3[2][0]                     \n",
            "                                                                 attention_layer[2][0]            \n",
            "__________________________________________________________________________________________________\n",
            "time_distributed (TimeDistribut (None, None, 4588)   2757388     concat[0][0]                     \n",
            "==================================================================================================\n",
            "Total params: 3,877,688\n",
            "Trainable params: 3,877,688\n",
            "Non-trainable params: 0\n",
            "__________________________________________________________________________________________________\n"
          ],
          "name": "stdout"
        }
      ]
    },
    {
      "cell_type": "markdown",
      "metadata": {
        "id": "2jczQ7jvd-SE"
      },
      "source": [
        "The method below takes an input sequence and feeds it to our encoder and then decoder model. The decoder model uses time steps and generates one word per step, this is why we have used a while loop which will iterate till the decoder predicts end token. "
      ]
    },
    {
      "cell_type": "code",
      "metadata": {
        "id": "KobUU-Iq2G8d",
        "cellView": "code"
      },
      "source": [
        "def decode_sequence(input_seq):\n",
        "    # Encode the input as state vectors.\n",
        "    e_out, e_h, e_c = encoder_model.predict(input_seq)\n",
        "    \n",
        "    # Generate empty target sequence of length 1.\n",
        "    target_seq = np.zeros((1,1))\n",
        "    \n",
        "    # Populate the first word of target sequence with the start word.\n",
        "    target_seq[0, 0] = target_word_index['startoftoken']\n",
        "\n",
        "    stop_condition = False\n",
        "    decoded_sentence = ''\n",
        "    while not stop_condition:\n",
        "      \n",
        "        output_tokens, h, c = decoder_model.predict([target_seq] + [e_out, e_h, e_c])\n",
        "\n",
        "        # Sample a token\n",
        "        sampled_token_index = np.argmax(output_tokens[0, -1, :])\n",
        "        sampled_token = reverse_target_word_index[sampled_token_index]\n",
        "        \n",
        "        if(sampled_token!='endoftoken'):\n",
        "            decoded_sentence += ' '+sampled_token\n",
        "\n",
        "        # Exit condition: either hit max length or find stop word.\n",
        "        if (sampled_token == 'endoftoken'  or len(decoded_sentence.split()) >= (max_summary_len-1)):\n",
        "            stop_condition = True\n",
        "\n",
        "        # Update the target sequence (of length 1).\n",
        "        target_seq = np.zeros((1,1))\n",
        "        target_seq[0, 0] = sampled_token_index\n",
        "\n",
        "        # Update internal states\n",
        "        e_h, e_c = h, c\n",
        "\n",
        "    return decoded_sentence"
      ],
      "execution_count": null,
      "outputs": []
    },
    {
      "cell_type": "markdown",
      "metadata": {
        "id": "ocaR0G3GeYVG"
      },
      "source": [
        "Below methods converts sequences back into actual text i.e reviews or summaries."
      ]
    },
    {
      "cell_type": "code",
      "metadata": {
        "id": "SHU3cypZ2Xxw"
      },
      "source": [
        "def seq2summary(input_seq):\n",
        "    newString=''\n",
        "    for i in input_seq:\n",
        "        if((i!=0 and i!=target_word_index['startoftoken']) and i!=target_word_index['endoftoken']):\n",
        "            newString=newString+reverse_target_word_index[i]+' '\n",
        "    return newString\n",
        "\n",
        "def seq2text(input_seq):\n",
        "    newString=''\n",
        "    for i in input_seq:\n",
        "        if(i!=0):\n",
        "            newString=newString+reverse_source_word_index[i]+' '\n",
        "    return newString"
      ],
      "execution_count": null,
      "outputs": []
    },
    {
      "cell_type": "markdown",
      "metadata": {
        "id": "0WRtHU6eeh9d"
      },
      "source": [
        "Finally, we have predicted at least 100 review samples from our test set and compared the result to the original summaries. Sinces there is no metrice for accuracy, we can check the accuracy of our model by comparing the actual vs predicted summaries. After seeing the results, we can say that our model did pretty well!"
      ]
    },
    {
      "cell_type": "code",
      "metadata": {
        "id": "qLLvNHyt2bkE",
        "colab": {
          "base_uri": "https://localhost:8080/",
          "height": 1000
        },
        "outputId": "c314ee58-ef85-4526-dd95-2386f1f95bad"
      },
      "source": [
        "for i in range(0,100):\n",
        "    print(\"Review:\",seq2text(X_test[i]))\n",
        "    print(\"Original summary:\",seq2summary(Y_test[i]))\n",
        "    print(\"Predicted summary:\",decode_sequence(X_test[i].reshape(1,max_text_len)))\n",
        "    print(\"\\n\")"
      ],
      "execution_count": null,
      "outputs": [
        {
          "output_type": "stream",
          "text": [
            "Review: substantial bones must admit fun play taste incredibly delicious great way away afternoon lawn shade well assume true based dog reaction \n",
            "Original summary: delicious and fun for everyone \n",
            "Predicted summary:  my dog loves these\n",
            "\n",
            "\n",
            "Review: best breadsticks ever wonderful crunchy sesame flavor fresh baked taste wonderful cheese soup alone local groceries stopped stocking mistake \n",
            "Original summary: great breadsticks \n",
            "Predicted summary:  great cheese\n",
            "\n",
            "\n",
            "Review: use oil oil pulling light quite pleasant sunflower seed flavor exactly looking item arrived early nice surprise great seller \n",
            "Original summary: great for oil \n",
            "Predicted summary:  great oil\n",
            "\n",
            "\n",
            "Review: omg wonderful replaced sugar house great smoothies sorts berries cereal love send gifts extended family easy thru amazon \n",
            "Original summary: sweet \n",
            "Predicted summary:  great product\n",
            "\n",
            "\n",
            "Review: purchased item several years ago discovered comes china something want feed dog unless want catch bird flu \n",
            "Original summary: made in china \n",
            "Predicted summary:  made in china\n",
            "\n",
            "\n",
            "Review: make gluten free pancakes using bread mix 1 4 dry ingredients makes pancakes fluffy find need extra amount milk soymilk \n",
            "Original summary: great in pancakes \n",
            "Predicted summary:  great for pancakes\n",
            "\n",
            "\n",
            "Review: think marshmallow makes kids love cereal touch chocolate flavor crunchy squares make cereal unique \n",
            "Original summary: kids love it \n",
            "Predicted summary:  kashi cereal\n",
            "\n",
            "\n",
            "Review: love product cherry soda without sugars chemicals present standard commercial brands wonderful flavor nice fizz \n",
            "Original summary: delicious \n",
            "Predicted summary:  great tasting\n",
            "\n",
            "\n",
            "Review: bad coconut water come close nirvana bottles thai coconuts nirvana much deeper richer taste \n",
            "Original summary: good but not great \n",
            "Predicted summary:  not bad\n",
            "\n",
            "\n",
            "Review: tea great little brown sugar agave nectar splash soy milk love \n",
            "Original summary: excellent \n",
            "Predicted summary:  great tea\n",
            "\n",
            "\n",
            "Review: course one going pay 7 shipping charge see store fairly tasty certainly nutritious \n",
            "Original summary: pretty good \n",
            "Predicted summary:  great price\n",
            "\n",
            "\n",
            "Review: tried along two children agreed tastes like spoiled oj maybe would acquired taste drinking find br br oddly enough black cherry version quite good \n",
            "Original summary: yuck \n",
            "Predicted summary:  not bad\n",
            "\n",
            "\n",
            "Review: first time tried illy espresso 6 yrs ago business trip europe hard forget taste illy caffe dark roast pods satisfy espresso lover especially cleaning reduced zero highly recommended \n",
            "Original summary: espresso lovers heaven \n",
            "Predicted summary:  espresso espresso\n",
            "\n",
            "\n",
            "Review: raw cacao raw coconut sweet manna gods wholesome healthy love bag never go back regular ol hershey color impressed delighted \n",
            "Original summary: o m g love in a bag \n",
            "Predicted summary:  delicious\n",
            "\n",
            "\n",
            "Review: ordered seller exact product unfortunately last shipment candies simply crumble disappointing quality \n",
            "Original summary: too soft \n",
            "Predicted summary:  candy\n",
            "\n",
            "\n",
            "Review: great price product little irregular shape br but affect taste \n",
            "Original summary: good price for a big bag \n",
            "Predicted summary:  great value\n",
            "\n",
            "\n",
            "Review: generally like decaf coffee one green mountain pleasantly smooth probably works expensive buying coffee k cup form rather loose convenient \n",
            "Original summary: smooth coffee \n",
            "Predicted summary:  good decaf\n",
            "\n",
            "\n",
            "Review: cat particular eating habits right brand flavor moist cat food eats bought expensive brands stuck nose em love ease buying amazon works well \n",
            "Original summary: my \n",
            "Predicted summary:  my cat loves it\n",
            "\n",
            "\n",
            "Review: surprised things buy amazon wow br i thought buy stuff like asian market br br i pretty sure healthy taste really good probably favorite bowl noodle br br will buy \n",
            "Original summary: sweet \n",
            "Predicted summary:  not bad\n",
            "\n",
            "\n",
            "Review: started drinking local donut shop hooked home fyi good hot cold local donut shop started blended like slushy even better buy 1 iced 1 blended later \n",
            "Original summary: love this stuff \n",
            "Predicted summary:  great coffee\n",
            "\n",
            "\n",
            "Review: use syrup sweetener coffee smoothies tastes good yet find anywhere price even comparable one \n",
            "Original summary: good product great price \n",
            "Predicted summary:  great product\n",
            "\n",
            "\n",
            "Review: could find local stores glad amazon addicting cannot eat one \n",
            "Original summary: taste great \n",
            "Predicted summary:  great product\n",
            "\n",
            "\n",
            "Review: cookies essentially tasteless eat one consistency weird kind mushy betty crocker chocolate chip mix zillion times better except bake \n",
            "Original summary: not great \n",
            "Predicted summary:  awful\n",
            "\n",
            "\n",
            "Review: met teenager like product healthy taste good \n",
            "Original summary: great snack \n",
            "Predicted summary:  great tasting\n",
            "\n",
            "\n",
            "Review: husband made batch bread smells tastes amazing fact contains skim milk whey means neither kids suppose lesson reading every label purchasing spoiled bob red mill gluten free dairy free bread \n",
            "Original summary: wtf dairy \n",
            "Predicted summary:  not bad\n",
            "\n",
            "\n",
            "Review: two love toy dino always top toy list stand aggressive chewing ordering second one \n",
            "Original summary: it is a favorite \n",
            "Predicted summary:  nylabone souper\n",
            "\n",
            "\n",
            "Review: brazilian santos whole bean coffe good br you pay 500 br coffee machine produce coffeee br i try change grinder set still good coffe br \n",
            "Original summary: do not smell coffe \n",
            "Predicted summary:  beans\n",
            "\n",
            "\n",
            "Review: glad find healthy food amazon difficult find low fat crackers one great \n",
            "Original summary: healthy corn thins \n",
            "Predicted summary:  great crackers\n",
            "\n",
            "\n",
            "Review: really look forward starting day cup two senseo coffee med roast one favorites \n",
            "Original summary: how to start the day \n",
            "Predicted summary:  senseo dark roast\n",
            "\n",
            "\n",
            "Review: want thank sending sunflower seeds daughter overseas prompt attention order daughter kind message wonderful surprise thank \n",
            "Original summary: thank you so much \n",
            "Predicted summary:  great product\n",
            "\n",
            "\n",
            "Review: dogs love greenies teeth white chewing problem greenies expensive buy bulk amazon keep prices little bit \n",
            "Original summary: my dogs teeth are white \n",
            "Predicted summary:  greenies\n",
            "\n",
            "\n",
            "Review: buy dogs help controlling weight salt free however like peanut butter complaint never know going arrive broken bits last order seems much better last \n",
            "Original summary: will they be crumbled \n",
            "Predicted summary:  good but not great\n",
            "\n",
            "\n",
            "Review: pre measured bags make easy make perfect cup every time like strong side makes 3 4 pot like regular makes pot find desired strength easy add amount water every time \n",
            "Original summary: coffee \n",
            "Predicted summary:  great coffee\n",
            "\n",
            "\n",
            "Review: product work fondant sticks plastic even big enough roll fondant stick cake impression mats silicone quite large roll size cake would buy \n",
            "Original summary: animal print mat waste of money \n",
            "Predicted summary:  works\n",
            "\n",
            "\n",
            "Review: dogs lost interest chewing short period time lay around floor untouched \n",
            "Original summary: my dogs lost interest quickly \n",
            "Predicted summary:  dogs love it\n",
            "\n",
            "\n",
            "Review: second time ordered product plan order often work perfectly able use favorite speciality coffees especially run k cups sold retail stores \n",
            "Original summary: convenient \n",
            "Predicted summary:  great coffee\n",
            "\n",
            "\n",
            "Review: someone donated keurig work wanted try received excellent assortment one pictured believe great way try various brands regardless flavor wolfgang puck far favorite however like dolce gusto cappuccinos better \n",
            "Original summary: strange the different \n",
            "Predicted summary:  not as described\n",
            "\n",
            "\n",
            "Review: using pill tablet saw offer soft chews dog enjoys soft chews much better thinks treat rather medicine different favors future \n",
            "Original summary: soft chews for \n",
            "Predicted summary:  great product\n",
            "\n",
            "\n",
            "Review: love oil really good taste use oil bottle bit large pour bottle smaller glass bottle already purchsed used first gallon \n",
            "Original summary: great oil \n",
            "Predicted summary:  great oil\n",
            "\n",
            "\n",
            "Review: got snow cone maker christmas psyched tried cone orange soda disgusted result finally tried flavors amazing blue raspberry far best grape second best recommend every one sooooooooo good \n",
            "Original summary: tasty \n",
            "Predicted summary:  delicious\n",
            "\n",
            "\n",
            "Review: anyone ever given peppermint teabags always bags definitely super jumbo smells fresh probably satisfied peppermint teas \n",
            "Original summary: peppermint \n",
            "Predicted summary:  great peppermint tea\n",
            "\n",
            "\n",
            "Review: really enjoy chocolate bar since allergic dairy gluten plus found cheaper buy bulk \n",
            "Original summary: rice chocolate \n",
            "Predicted summary:  chocolate bars\n",
            "\n",
            "\n",
            "Review: computer amazon com quickest shipping really cared satisfaction treated right coffee eye make completely satisfied really first place go thanks amazon com \n",
            "Original summary: great packaging quick shipping best service ever \n",
            "Predicted summary:  great\n",
            "\n",
            "\n",
            "Review: flavors delicious love choice morning \n",
            "Original summary: celestial seasonings fruit tea sampler \n",
            "Predicted summary:  delicious\n",
            "\n",
            "\n",
            "Review: add little extra pepper heating like really spicy great baked potato little sour cream quick relatively healthy dinner \n",
            "Original summary: yum \n",
            "Predicted summary:  great taste\n",
            "\n",
            "\n",
            "Review: product comes timely manner daughter love 3 kids actually like flavors miracle sorry order 3 boxes month minor inconvenience thank product continue enjoy price good also \n",
            "Original summary: clif kid fruit \n",
            "Predicted summary:  great product\n",
            "\n",
            "\n",
            "Review: chocolate chip cookies excellent good loaded gluten \n",
            "Original summary: just as good as the real thing \n",
            "Predicted summary:  great cookies\n",
            "\n",
            "\n",
            "Review: tasting cereal hooked become daily even better slicing banana strawberry adding blueberries top delicious shipped directly door feel getting fresh \n",
            "Original summary: raisin bran crunch \n",
            "Predicted summary:  great cereal\n",
            "\n",
            "\n",
            "Review: product great package half full got one half empty would recommend product based value money ga \n",
            "Original summary: half \n",
            "Predicted summary:  good product\n",
            "\n",
            "\n",
            "Review: love dunkin donuts coffee mocha lattes make home cost anything everything right \n",
            "Original summary: sorry dunkin donuts \n",
            "Predicted summary:  great coffee\n",
            "\n",
            "\n",
            "Review: unable find peanut butter nips around great able get ordering e mail came fast go ha ha thank \n",
            "Original summary: instant \n",
            "Predicted summary:  skippy peanut butter\n",
            "\n",
            "\n",
            "Review: 5 cats would kill temptations love treats every time go kitchen least 3 follow meow give variety varieties temptations nuff said \n",
            "Original summary: my cats love it \n",
            "Predicted summary:  cats love these treats\n",
            "\n",
            "\n",
            "Review: enjoy product found well banana nut weight control oatmeal discontinued amazon website see could find item successful like buy \n",
            "Original summary: weight control cinnamon oatmeal \n",
            "Predicted summary:  good product\n",
            "\n",
            "\n",
            "Review: started using instead sugar honey tastes great easy find uses use tea childs waffles oatmeal loves continue buy \n",
            "Original summary: great tasting good for kids \n",
            "Predicted summary:  great product\n",
            "\n",
            "\n",
            "Review: although called wild sweet orange yet taste sweetness part seems tart still decent hot tea bet would make good iced tea really expected \n",
            "Original summary: where is the sweetness \n",
            "Predicted summary:  not very good\n",
            "\n",
            "\n",
            "Review: generally chocoholic delicious pure raspberry flavor wonderful light texture simplicity cookies one box comes 3 foil wrapped smaller packages within convenient make sure get go france reasonably priced \n",
            "Original summary: so light and delicious \n",
            "Predicted summary:  delicious\n",
            "\n",
            "\n",
            "Review: think best hot chocolate ever least mix form like br br only warning taste good water like mixes seem got milk good \n",
            "Original summary: great hot chocolate \n",
            "Predicted summary:  hot chocolate\n",
            "\n",
            "\n",
            "Review: blue diamond roasted brown sugar cinnamon almonds taste great benefits almonds 100 calorie packs take edge nicely great healthy snack good price amazon com \n",
            "Original summary: blue diamond roasted brown sugar cinnamon almonds \n",
            "Predicted summary:  great tasting\n",
            "\n",
            "\n",
            "Review: bad coffee served work would say pretty darn good enjoy really good cup home mellow taste double strength taste coffee ill go back hawaiian roasters kona coffee keeper \n",
            "Original summary: not at this price \n",
            "Predicted summary:  good coffee\n",
            "\n",
            "\n",
            "Review: use get day get enough sleep suffering lunch carb coma work drink whole thing often always one bag flavor ok drink ounce two almost anything terrible \n",
            "Original summary: it is 2 ounces \n",
            "Predicted summary:  great product\n",
            "\n",
            "\n",
            "Review: gel color great vibrant water recipes like liquid color taste cook lot large size become must order arrived quickly perfect shape highly recommend \n",
            "Original summary: love the large size \n",
            "Predicted summary:  great product\n",
            "\n",
            "\n",
            "Review: cannot find individual size packages locally answered family needs tried varieties prefer original flavor \n",
            "Original summary: great taste \n",
            "Predicted summary:  great product\n",
            "\n",
            "\n",
            "Review: started using desperation nothing helping dogs bad breath brown teeth money take doggy dentist second bag teeth almost white breath smells much better \n",
            "Original summary: his brown teeth are now almost white \n",
            "Predicted summary:  my dogs love these\n",
            "\n",
            "\n",
            "Review: purchased locally years prefer nutritious natural food dog pleased able find less amazon \n",
            "Original summary: dog treats \n",
            "Predicted summary:  great product\n",
            "\n",
            "\n",
            "Review: enjoyed various flavors really nice company choice flavors fun try would order \n",
            "Original summary: a great choice \n",
            "Predicted summary:  great variety\n",
            "\n",
            "\n",
            "Review: product good drinking meals people handle drinking water found warming water drinking like hot tea makes tolerable keeps digestion regular energy boosted slightly helps acid reflux \n",
            "Original summary: good for digestion \n",
            "Predicted summary:  great taste\n",
            "\n",
            "\n",
            "Review: far favorite blend coffee delicious flavor bold overpowering definitely buying \n",
            "Original summary: really good coffee \n",
            "Predicted summary:  great coffee\n",
            "\n",
            "\n",
            "Review: well one best get us need boiling water real milk \n",
            "Original summary: real tea \n",
            "Predicted summary:  great product\n",
            "\n",
            "\n",
            "Review: great product generally like boxed meals especially hamburger helper type product tastes great cheesy spices right hope make varieties future \n",
            "Original summary: yummy \n",
            "Predicted summary:  great\n",
            "\n",
            "\n",
            "Review: use smoothie every day blends well like organic grown us \n",
            "Original summary: great for smoothies \n",
            "Predicted summary:  great product\n",
            "\n",
            "\n",
            "Review: good stuff made real ingredients really hate reading ingredient list kraft mac cheese annie makes quality products taste great starting eating annie mac cheese stopped eating kraft great comfort good \n",
            "Original summary: great boxed mac cheese \n",
            "Predicted summary:  miracle noodles\n",
            "\n",
            "\n",
            "Review: canned oregon boysenberries best thank amazon sending keep ordering thats sure shirley \n",
            "Original summary: the very best \n",
            "Predicted summary:  excellent product\n",
            "\n",
            "\n",
            "Review: pets love bully springs apart smell price lower great treats dogs \n",
            "Original summary: pets love them \n",
            "Predicted summary:  dogs love them\n",
            "\n",
            "\n",
            "Review: first time customer smooth taste bitterness aftertaste pleasant surprise normally buy green mountain breakfast blend buy whichever one offered best price \n",
            "Original summary: good taste i might buy it again \n",
            "Predicted summary:  great taste\n",
            "\n",
            "\n",
            "Review: well product description says 24 pack still bad price wait shipping 77 86 kidding br br i gave 5 star rating coke awesome \n",
            "Original summary: bad price awful shipping charges \n",
            "Predicted summary:  false advertising\n",
            "\n",
            "\n",
            "Review: ok better subscribe save plus credit go lot mac buying box vs 1 local stores huge \n",
            "Original summary: better price than locally \n",
            "Predicted summary:  good value\n",
            "\n",
            "\n",
            "Review: purchased 8 amazon directly merchants past best treat german shepherd size perfect large dog organic get price right \n",
            "Original summary: and healthy treat for my german shepherd \n",
            "Predicted summary:  my dogs love these\n",
            "\n",
            "\n",
            "Review: know rate item would take picture notch like remove lable maybe people would able tell kind spice know issue lable totally chases \n",
            "Original summary: not impressed \n",
            "Predicted summary:  not as pictured\n",
            "\n",
            "\n",
            "Review: anything like bangers enjoyed living really looking forward showing friends like missed much sharing anyone \n",
            "Original summary: not very good \n",
            "Predicted summary:  the best\n",
            "\n",
            "\n",
            "Review: coffee comparable illy also love br br i needed decaf bought alessi local grocery however much cheaper \n",
            "Original summary: a great product \n",
            "Predicted summary:  good coffee\n",
            "\n",
            "\n",
            "Review: dark roast packaging may pretty coffee terrible brewed several times adding coffee always comes weak flat watered worse folgers \n",
            "Original summary: tastes like coffee \n",
            "Predicted summary:  not bad\n",
            "\n",
            "\n",
            "Review: cookies marvelous however shipper seem able send without breakage box prefer whole cookies broken ones \n",
            "Original summary: tasty cookies \n",
            "Predicted summary:  broken cookies\n",
            "\n",
            "\n",
            "Review: using product 12 year old dog 6 months seems returned happy healthy self months limping continue using would recommend others whose dogs seems hurting \n",
            "Original summary: comfort food \n",
            "Predicted summary:  great product\n",
            "\n",
            "\n",
            "Review: addicted pregnant good everyone though literally hint flavor kind like water fresh lemon family members werent fond kind expensive \n",
            "Original summary: so good \n",
            "Predicted summary:  love it\n",
            "\n",
            "\n",
            "Review: like cookies sweet rich texture substance know exactly einkorn flour give jovial cookies malted milk taste becomes addictive able stop perfect cookies coffee tea \n",
            "Original summary: ginger cookies are a joy \n",
            "Predicted summary:  great cookies\n",
            "\n",
            "\n",
            "Review: eat almost every day oatmeal also delicious smoothie banana almond milk bigger bag better value individual jar \n",
            "Original summary: love pb2 \n",
            "Predicted summary:  great product\n",
            "\n",
            "\n",
            "Review: received little ficus day new york year 13 cold fine well packed nicer imagined leaf loss purchase keep good work \n",
            "Original summary: beautiful little tree \n",
            "Predicted summary:  great product\n",
            "\n",
            "\n",
            "Review: think amazon com good selection organic foods drinks would highly recommend better children \n",
            "Original summary: organic juice \n",
            "Predicted summary:  great product\n",
            "\n",
            "\n",
            "Review: mixes make great soups add little meat water crockpot lunch week soups tasty high sodium like soup mixes \n",
            "Original summary: great taste \n",
            "Predicted summary:  great soup\n",
            "\n",
            "\n",
            "Review: second red palm oil tried bottle oil smoked turned heat happen satisfied flavor though \n",
            "Original summary: red palm oil \n",
            "Predicted summary:  olive oil\n",
            "\n",
            "\n",
            "Review: great coffee wife loved little hard get thou every time order stock \n",
            "Original summary: great coffee \n",
            "Predicted summary:  great coffee\n",
            "\n",
            "\n",
            "Review: first time trying product sure results turn giving shot line usually always great expecting anything less \n",
            "Original summary: thanks \n",
            "Predicted summary:  not bad\n",
            "\n",
            "\n",
            "Review: worth every cent crunchy sweet yummy low cal cannot say enough good stuff one \n",
            "Original summary: super happy with this \n",
            "Predicted summary:  delicious\n",
            "\n",
            "\n",
            "Review: love kind bars favorite far pomegranate blueberry pistachio cranberry almond crazy fruit nut turn like 2 flavors kind plus nutrition bars pomegranate blueberry pistachio antioxidants 12 ea \n",
            "Original summary: love those kind bars \n",
            "Predicted summary:  great tasting\n",
            "\n",
            "\n",
            "Review: best takes least two bags tea equal one bag heather usually get pay \n",
            "Original summary: i tried cheaper tea but \n",
            "Predicted summary:  great product\n",
            "\n",
            "\n",
            "Review: looked vain locally hansen orange mango soda found amazon really appreciate able enjoy soda regular basis would recommend anyone natural ingredients sweetened sugar plain ordinary sugar \n",
            "Original summary: thank you amazon com \n",
            "Predicted summary:  great product\n",
            "\n",
            "\n",
            "Review: cats love love love brand sticking heads bag first opened cute cant find another brand cat food ingredients want large bag price \n",
            "Original summary: most affordable quality pet food ive found \n",
            "Predicted summary:  cats love it\n",
            "\n",
            "\n",
            "Review: wanting better vanilla great flavor pops well worth money never heard thought would try must \n",
            "Original summary: great \n",
            "Predicted summary:  not worth the price\n",
            "\n",
            "\n",
            "Review: love seasoning use veggies slight heat hot great disguise veggies particularly like \n",
            "Original summary: chef paul s vegetable magic \n",
            "Predicted summary:  great seasoning\n",
            "\n",
            "\n",
            "Review: jam charts good folks produce wonderful job definately consider time reorder \n",
            "Original summary: blackberry on toast \n",
            "Predicted summary:  good stuff\n",
            "\n",
            "\n"
          ],
          "name": "stdout"
        }
      ]
    }
  ]
}